{
 "cells": [
  {
   "cell_type": "code",
   "execution_count": 1,
   "id": "ce792ba6",
   "metadata": {},
   "outputs": [
    {
     "data": {
      "application/javascript": [
       "\n",
       "            setTimeout(function() {\n",
       "                var nbb_cell_id = 1;\n",
       "                var nbb_unformatted_code = \"%load_ext nb_black\";\n",
       "                var nbb_formatted_code = \"%load_ext nb_black\";\n",
       "                var nbb_cells = Jupyter.notebook.get_cells();\n",
       "                for (var i = 0; i < nbb_cells.length; ++i) {\n",
       "                    if (nbb_cells[i].input_prompt_number == nbb_cell_id) {\n",
       "                        if (nbb_cells[i].get_text() == nbb_unformatted_code) {\n",
       "                             nbb_cells[i].set_text(nbb_formatted_code);\n",
       "                        }\n",
       "                        break;\n",
       "                    }\n",
       "                }\n",
       "            }, 500);\n",
       "            "
      ],
      "text/plain": [
       "<IPython.core.display.Javascript object>"
      ]
     },
     "metadata": {},
     "output_type": "display_data"
    }
   ],
   "source": [
    "%load_ext nb_black"
   ]
  },
  {
   "cell_type": "code",
   "execution_count": 2,
   "id": "1541d48f",
   "metadata": {},
   "outputs": [
    {
     "data": {
      "application/javascript": [
       "\n",
       "            setTimeout(function() {\n",
       "                var nbb_cell_id = 2;\n",
       "                var nbb_unformatted_code = \"import time\\nfrom tqdm import tqdm\";\n",
       "                var nbb_formatted_code = \"import time\\nfrom tqdm import tqdm\";\n",
       "                var nbb_cells = Jupyter.notebook.get_cells();\n",
       "                for (var i = 0; i < nbb_cells.length; ++i) {\n",
       "                    if (nbb_cells[i].input_prompt_number == nbb_cell_id) {\n",
       "                        if (nbb_cells[i].get_text() == nbb_unformatted_code) {\n",
       "                             nbb_cells[i].set_text(nbb_formatted_code);\n",
       "                        }\n",
       "                        break;\n",
       "                    }\n",
       "                }\n",
       "            }, 500);\n",
       "            "
      ],
      "text/plain": [
       "<IPython.core.display.Javascript object>"
      ]
     },
     "metadata": {},
     "output_type": "display_data"
    }
   ],
   "source": [
    "import time\n",
    "from tqdm import tqdm"
   ]
  },
  {
   "cell_type": "code",
   "execution_count": 3,
   "id": "30e570c0",
   "metadata": {},
   "outputs": [
    {
     "data": {
      "application/javascript": [
       "\n",
       "            setTimeout(function() {\n",
       "                var nbb_cell_id = 3;\n",
       "                var nbb_unformatted_code = \"from steamship import Steamship, PluginInstance, File\\n\\nfrom steamship import Block, Tag\\nfrom steamship.base.tasks import TaskState\";\n",
       "                var nbb_formatted_code = \"from steamship import Steamship, PluginInstance, File\\n\\nfrom steamship import Block, Tag\\nfrom steamship.base.tasks import TaskState\";\n",
       "                var nbb_cells = Jupyter.notebook.get_cells();\n",
       "                for (var i = 0; i < nbb_cells.length; ++i) {\n",
       "                    if (nbb_cells[i].input_prompt_number == nbb_cell_id) {\n",
       "                        if (nbb_cells[i].get_text() == nbb_unformatted_code) {\n",
       "                             nbb_cells[i].set_text(nbb_formatted_code);\n",
       "                        }\n",
       "                        break;\n",
       "                    }\n",
       "                }\n",
       "            }, 500);\n",
       "            "
      ],
      "text/plain": [
       "<IPython.core.display.Javascript object>"
      ]
     },
     "metadata": {},
     "output_type": "display_data"
    }
   ],
   "source": [
    "from steamship import Steamship, File\n",
    "\n",
    "from steamship import Block, Tag\n",
    "from steamship.base.tasks import TaskState"
   ]
  },
  {
   "cell_type": "code",
   "execution_count": 4,
   "id": "03395155",
   "metadata": {},
   "outputs": [
    {
     "data": {
      "application/javascript": [
       "\n",
       "            setTimeout(function() {\n",
       "                var nbb_cell_id = 4;\n",
       "                var nbb_unformatted_code = \"client = Steamship(profile=\\\"prod\\\", workspace=\\\"podcasts\\\")\\n\\n\\ndef get_steamship_client():\\n    return client\";\n",
       "                var nbb_formatted_code = \"client = Steamship(profile=\\\"prod\\\", workspace=\\\"podcasts\\\")\\n\\n\\ndef get_steamship_client():\\n    return client\";\n",
       "                var nbb_cells = Jupyter.notebook.get_cells();\n",
       "                for (var i = 0; i < nbb_cells.length; ++i) {\n",
       "                    if (nbb_cells[i].input_prompt_number == nbb_cell_id) {\n",
       "                        if (nbb_cells[i].get_text() == nbb_unformatted_code) {\n",
       "                             nbb_cells[i].set_text(nbb_formatted_code);\n",
       "                        }\n",
       "                        break;\n",
       "                    }\n",
       "                }\n",
       "            }, 500);\n",
       "            "
      ],
      "text/plain": [
       "<IPython.core.display.Javascript object>"
      ]
     },
     "metadata": {},
     "output_type": "display_data"
    }
   ],
   "source": [
    "client = Steamship(profile=\"prod\", workspace=\"podcasts\")\n",
    "\n",
    "\n",
    "def get_steamship_client():\n",
    "    return client"
   ]
  },
  {
   "cell_type": "code",
   "execution_count": 5,
   "id": "3c3e206e",
   "metadata": {},
   "outputs": [
    {
     "name": "stdout",
     "output_type": "stream",
     "text": [
      "importer 6D719EAC-C3F6-4C59-9BD1-5062CD113D88\n"
     ]
    },
    {
     "data": {
      "application/javascript": [
       "\n",
       "            setTimeout(function() {\n",
       "                var nbb_cell_id = 5;\n",
       "                var nbb_unformatted_code = \"file_importer = client.use_plugin(\\n    plugin_handle=\\\"youtube-file-importer\\\",\\n    config={},\\n)\\nprint(\\\"importer\\\", file_importer.id)\";\n",
       "                var nbb_formatted_code = \"file_importer = client.use_plugin(\\n    plugin_handle=\\\"youtube-file-importer\\\",\\n    config={},\\n)\\nprint(\\\"importer\\\", file_importer.id)\";\n",
       "                var nbb_cells = Jupyter.notebook.get_cells();\n",
       "                for (var i = 0; i < nbb_cells.length; ++i) {\n",
       "                    if (nbb_cells[i].input_prompt_number == nbb_cell_id) {\n",
       "                        if (nbb_cells[i].get_text() == nbb_unformatted_code) {\n",
       "                             nbb_cells[i].set_text(nbb_formatted_code);\n",
       "                        }\n",
       "                        break;\n",
       "                    }\n",
       "                }\n",
       "            }, 500);\n",
       "            "
      ],
      "text/plain": [
       "<IPython.core.display.Javascript object>"
      ]
     },
     "metadata": {},
     "output_type": "display_data"
    }
   ],
   "source": [
    "file_importer = client.use_plugin(\n",
    "    plugin_handle=\"youtube-file-importer\",\n",
    "    config={},\n",
    ")\n",
    "print(\"importer\", file_importer.id)"
   ]
  },
  {
   "cell_type": "code",
   "execution_count": 6,
   "id": "4e8b850e",
   "metadata": {},
   "outputs": [
    {
     "name": "stdout",
     "output_type": "stream",
     "text": [
      "blockifier 20C98B24-A624-4306-A9CE-A82E278B2E6D\n"
     ]
    },
    {
     "data": {
      "application/javascript": [
       "\n",
       "            setTimeout(function() {\n",
       "                var nbb_cell_id = 6;\n",
       "                var nbb_unformatted_code = \"s2t_blockifier = client.use_plugin(\\n    plugin_handle=\\\"s2t-blockifier-default\\\",\\n    config={},\\n)\\nprint(\\\"blockifier\\\", s2t_blockifier.id)\";\n",
       "                var nbb_formatted_code = \"s2t_blockifier = client.use_plugin(\\n    plugin_handle=\\\"s2t-blockifier-default\\\",\\n    config={},\\n)\\nprint(\\\"blockifier\\\", s2t_blockifier.id)\";\n",
       "                var nbb_cells = Jupyter.notebook.get_cells();\n",
       "                for (var i = 0; i < nbb_cells.length; ++i) {\n",
       "                    if (nbb_cells[i].input_prompt_number == nbb_cell_id) {\n",
       "                        if (nbb_cells[i].get_text() == nbb_unformatted_code) {\n",
       "                             nbb_cells[i].set_text(nbb_formatted_code);\n",
       "                        }\n",
       "                        break;\n",
       "                    }\n",
       "                }\n",
       "            }, 500);\n",
       "            "
      ],
      "text/plain": [
       "<IPython.core.display.Javascript object>"
      ]
     },
     "metadata": {},
     "output_type": "display_data"
    }
   ],
   "source": [
    "s2t_blockifier = client.use_plugin(\n",
    "    plugin_handle=\"s2t-blockifier-default\",\n",
    "    config={},\n",
    ")\n",
    "print(\"blockifier\", s2t_blockifier.id)"
   ]
  },
  {
   "cell_type": "code",
   "execution_count": 7,
   "id": "a4d7ab7a",
   "metadata": {},
   "outputs": [
    {
     "data": {
      "application/javascript": [
       "\n",
       "            setTimeout(function() {\n",
       "                var nbb_cell_id = 7;\n",
       "                var nbb_unformatted_code = \"podcasts = [\\n    (\\\"https://youtu.be/Rxmw9eizOAo\\\", \\\"Graham Hancock\\\"),\\n]\";\n",
       "                var nbb_formatted_code = \"podcasts = [\\n    (\\\"https://youtu.be/Rxmw9eizOAo\\\", \\\"Graham Hancock\\\"),\\n]\";\n",
       "                var nbb_cells = Jupyter.notebook.get_cells();\n",
       "                for (var i = 0; i < nbb_cells.length; ++i) {\n",
       "                    if (nbb_cells[i].input_prompt_number == nbb_cell_id) {\n",
       "                        if (nbb_cells[i].get_text() == nbb_unformatted_code) {\n",
       "                             nbb_cells[i].set_text(nbb_formatted_code);\n",
       "                        }\n",
       "                        break;\n",
       "                    }\n",
       "                }\n",
       "            }, 500);\n",
       "            "
      ],
      "text/plain": [
       "<IPython.core.display.Javascript object>"
      ]
     },
     "metadata": {},
     "output_type": "display_data"
    }
   ],
   "source": [
    "podcasts = [\n",
    "    (\"https://youtu.be/Rxmw9eizOAo\", \"Graham Hancock\"),\n",
    "]"
   ]
  },
  {
   "cell_type": "code",
   "execution_count": 11,
   "id": "329a7b8c",
   "metadata": {},
   "outputs": [
    {
     "name": "stderr",
     "output_type": "stream",
     "text": [
      "100%|██████████████████████████████████████████████████████████████████████████████████████| 1/1 [00:01<00:00,  1.59s/it]\n"
     ]
    },
    {
     "data": {
      "application/javascript": [
       "\n",
       "            setTimeout(function() {\n",
       "                var nbb_cell_id = 11;\n",
       "                var nbb_unformatted_code = \"file_futures = []\\nfor podcast_url, podcast_guest in tqdm(podcasts):\\n    file_create_task = File.create_with_plugin(\\n        client, plugin_instance=file_importer.handle, url=podcast_url\\n    )\\n    file_create_task.wait()\\n    file = file_create_task.output\\n    file_futures.append(\\n        (\\n            file.blockify(plugin_instance=s2t_blockifier.handle),\\n            file,\\n            podcast_url,\\n            podcast_guest,\\n        )\\n    )\";\n",
       "                var nbb_formatted_code = \"file_futures = []\\nfor podcast_url, podcast_guest in tqdm(podcasts):\\n    file_create_task = File.create_with_plugin(\\n        client, plugin_instance=file_importer.handle, url=podcast_url\\n    )\\n    file_create_task.wait()\\n    file = file_create_task.output\\n    file_futures.append(\\n        (\\n            file.blockify(plugin_instance=s2t_blockifier.handle),\\n            file,\\n            podcast_url,\\n            podcast_guest,\\n        )\\n    )\";\n",
       "                var nbb_cells = Jupyter.notebook.get_cells();\n",
       "                for (var i = 0; i < nbb_cells.length; ++i) {\n",
       "                    if (nbb_cells[i].input_prompt_number == nbb_cell_id) {\n",
       "                        if (nbb_cells[i].get_text() == nbb_unformatted_code) {\n",
       "                             nbb_cells[i].set_text(nbb_formatted_code);\n",
       "                        }\n",
       "                        break;\n",
       "                    }\n",
       "                }\n",
       "            }, 500);\n",
       "            "
      ],
      "text/plain": [
       "<IPython.core.display.Javascript object>"
      ]
     },
     "metadata": {},
     "output_type": "display_data"
    }
   ],
   "source": [
    "file_futures = []\n",
    "for podcast_url, podcast_guest in tqdm(podcasts):\n",
    "    file_create_task = File.create_with_plugin(\n",
    "        client, plugin_instance=file_importer.handle, url=podcast_url\n",
    "    )\n",
    "    file_create_task.wait()\n",
    "    file = file_create_task.output\n",
    "    file_futures.append(\n",
    "        (\n",
    "            file.blockify(plugin_instance=s2t_blockifier.handle),\n",
    "            file,\n",
    "            podcast_url,\n",
    "            podcast_guest,\n",
    "        )\n",
    "    )"
   ]
  },
  {
   "cell_type": "code",
   "execution_count": null,
   "id": "cbd76fbf",
   "metadata": {},
   "outputs": [
    {
     "name": "stdout",
     "output_type": "stream",
     "text": [
      "."
     ]
    },
    {
     "name": "stderr",
     "output_type": "stream",
     "text": [
      "WARNING:root:Client received error from server: [ERROR - POST /blockify] Unsupported mimeType. The following mimeTypes are supported: ('audio/mp3', 'audio/wav', 'video/mp4', 'audio/mp4', 'audio/webm', 'video/webm')\n",
      "WARNING:root:Client received error from server: [ERROR - POST /blockify] Unsupported mimeType. The following mimeTypes are supported: ('audio/mp3', 'audio/wav', 'video/mp4', 'audio/mp4', 'audio/webm', 'video/webm')\n",
      "steamship.base.error.SteamshipError: [ERROR - POST /blockify] Unsupported mimeType. The following mimeTypes are supported: ('audio/mp3', 'audio/wav', 'video/mp4', 'audio/mp4', 'audio/webm', 'video/webm')\n",
      "WARNING:root:Client received error from server: [ERROR - POST /blockify] Unsupported mimeType. The following mimeTypes are supported: ('audio/mp3', 'audio/wav', 'video/mp4', 'audio/mp4', 'audio/webm', 'video/webm')\n",
      "WARNING:root:Client received error from server: [ERROR - POST /blockify] Unsupported mimeType. The following mimeTypes are supported: ('audio/mp3', 'audio/wav', 'video/mp4', 'audio/mp4', 'audio/webm', 'video/webm')\n",
      "steamship.base.error.SteamshipError: [ERROR - POST /blockify] Unsupported mimeType. The following mimeTypes are supported: ('audio/mp3', 'audio/wav', 'video/mp4', 'audio/mp4', 'audio/webm', 'video/webm')\n"
     ]
    },
    {
     "name": "stdout",
     "output_type": "stream",
     "text": [
      ".."
     ]
    },
    {
     "name": "stderr",
     "output_type": "stream",
     "text": [
      "WARNING:root:Client received error from server: [ERROR - POST /blockify] Unsupported mimeType. The following mimeTypes are supported: ('audio/mp3', 'audio/wav', 'video/mp4', 'audio/mp4', 'audio/webm', 'video/webm')\n",
      "WARNING:root:Client received error from server: [ERROR - POST /blockify] Unsupported mimeType. The following mimeTypes are supported: ('audio/mp3', 'audio/wav', 'video/mp4', 'audio/mp4', 'audio/webm', 'video/webm')\n",
      "steamship.base.error.SteamshipError: [ERROR - POST /blockify] Unsupported mimeType. The following mimeTypes are supported: ('audio/mp3', 'audio/wav', 'video/mp4', 'audio/mp4', 'audio/webm', 'video/webm')\n",
      "WARNING:root:Client received error from server: [ERROR - POST /blockify] Unsupported mimeType. The following mimeTypes are supported: ('audio/mp3', 'audio/wav', 'video/mp4', 'audio/mp4', 'audio/webm', 'video/webm')\n"
     ]
    },
    {
     "name": "stdout",
     "output_type": "stream",
     "text": [
      "."
     ]
    },
    {
     "name": "stderr",
     "output_type": "stream",
     "text": [
      "WARNING:root:Client received error from server: [ERROR - POST /blockify] Unsupported mimeType. The following mimeTypes are supported: ('audio/mp3', 'audio/wav', 'video/mp4', 'audio/mp4', 'audio/webm', 'video/webm')\n",
      "steamship.base.error.SteamshipError: [ERROR - POST /blockify] Unsupported mimeType. The following mimeTypes are supported: ('audio/mp3', 'audio/wav', 'video/mp4', 'audio/mp4', 'audio/webm', 'video/webm')\n"
     ]
    },
    {
     "name": "stdout",
     "output_type": "stream",
     "text": [
      "."
     ]
    },
    {
     "name": "stderr",
     "output_type": "stream",
     "text": [
      "WARNING:root:Client received error from server: [ERROR - POST /blockify] Unsupported mimeType. The following mimeTypes are supported: ('audio/mp3', 'audio/wav', 'video/mp4', 'audio/mp4', 'audio/webm', 'video/webm')\n",
      "WARNING:root:Client received error from server: [ERROR - POST /blockify] Unsupported mimeType. The following mimeTypes are supported: ('audio/mp3', 'audio/wav', 'video/mp4', 'audio/mp4', 'audio/webm', 'video/webm')\n",
      "steamship.base.error.SteamshipError: [ERROR - POST /blockify] Unsupported mimeType. The following mimeTypes are supported: ('audio/mp3', 'audio/wav', 'video/mp4', 'audio/mp4', 'audio/webm', 'video/webm')\n",
      "WARNING:root:Client received error from server: [ERROR - POST /blockify] Unsupported mimeType. The following mimeTypes are supported: ('audio/mp3', 'audio/wav', 'video/mp4', 'audio/mp4', 'audio/webm', 'video/webm')\n",
      "WARNING:root:Client received error from server: [ERROR - POST /blockify] Unsupported mimeType. The following mimeTypes are supported: ('audio/mp3', 'audio/wav', 'video/mp4', 'audio/mp4', 'audio/webm', 'video/webm')\n",
      "steamship.base.error.SteamshipError: [ERROR - POST /blockify] Unsupported mimeType. The following mimeTypes are supported: ('audio/mp3', 'audio/wav', 'video/mp4', 'audio/mp4', 'audio/webm', 'video/webm')\n"
     ]
    },
    {
     "name": "stdout",
     "output_type": "stream",
     "text": [
      ".."
     ]
    },
    {
     "name": "stderr",
     "output_type": "stream",
     "text": [
      "WARNING:root:Client received error from server: [ERROR - POST /blockify] Unsupported mimeType. The following mimeTypes are supported: ('audio/mp3', 'audio/wav', 'video/mp4', 'audio/mp4', 'audio/webm', 'video/webm')\n",
      "WARNING:root:Client received error from server: [ERROR - POST /blockify] Unsupported mimeType. The following mimeTypes are supported: ('audio/mp3', 'audio/wav', 'video/mp4', 'audio/mp4', 'audio/webm', 'video/webm')\n",
      "steamship.base.error.SteamshipError: [ERROR - POST /blockify] Unsupported mimeType. The following mimeTypes are supported: ('audio/mp3', 'audio/wav', 'video/mp4', 'audio/mp4', 'audio/webm', 'video/webm')\n"
     ]
    },
    {
     "name": "stdout",
     "output_type": "stream",
     "text": [
      "."
     ]
    },
    {
     "name": "stderr",
     "output_type": "stream",
     "text": [
      "WARNING:root:Client received error from server: [ERROR - POST /blockify] Unsupported mimeType. The following mimeTypes are supported: ('audio/mp3', 'audio/wav', 'video/mp4', 'audio/mp4', 'audio/webm', 'video/webm')\n",
      "WARNING:root:Client received error from server: [ERROR - POST /blockify] Unsupported mimeType. The following mimeTypes are supported: ('audio/mp3', 'audio/wav', 'video/mp4', 'audio/mp4', 'audio/webm', 'video/webm')\n",
      "steamship.base.error.SteamshipError: [ERROR - POST /blockify] Unsupported mimeType. The following mimeTypes are supported: ('audio/mp3', 'audio/wav', 'video/mp4', 'audio/mp4', 'audio/webm', 'video/webm')\n"
     ]
    },
    {
     "name": "stdout",
     "output_type": "stream",
     "text": [
      "."
     ]
    },
    {
     "name": "stderr",
     "output_type": "stream",
     "text": [
      "WARNING:root:Client received error from server: [ERROR - POST /blockify] Unsupported mimeType. The following mimeTypes are supported: ('audio/mp3', 'audio/wav', 'video/mp4', 'audio/mp4', 'audio/webm', 'video/webm')\n",
      "WARNING:root:Client received error from server: [ERROR - POST /blockify] Unsupported mimeType. The following mimeTypes are supported: ('audio/mp3', 'audio/wav', 'video/mp4', 'audio/mp4', 'audio/webm', 'video/webm')\n",
      "steamship.base.error.SteamshipError: [ERROR - POST /blockify] Unsupported mimeType. The following mimeTypes are supported: ('audio/mp3', 'audio/wav', 'video/mp4', 'audio/mp4', 'audio/webm', 'video/webm')\n"
     ]
    },
    {
     "name": "stdout",
     "output_type": "stream",
     "text": [
      "."
     ]
    },
    {
     "name": "stderr",
     "output_type": "stream",
     "text": [
      "WARNING:root:Client received error from server: [ERROR - POST /blockify] Unsupported mimeType. The following mimeTypes are supported: ('audio/mp3', 'audio/wav', 'video/mp4', 'audio/mp4', 'audio/webm', 'video/webm')\n",
      "WARNING:root:Client received error from server: [ERROR - POST /blockify] Unsupported mimeType. The following mimeTypes are supported: ('audio/mp3', 'audio/wav', 'video/mp4', 'audio/mp4', 'audio/webm', 'video/webm')\n",
      "steamship.base.error.SteamshipError: [ERROR - POST /blockify] Unsupported mimeType. The following mimeTypes are supported: ('audio/mp3', 'audio/wav', 'video/mp4', 'audio/mp4', 'audio/webm', 'video/webm')\n"
     ]
    },
    {
     "name": "stdout",
     "output_type": "stream",
     "text": [
      "."
     ]
    },
    {
     "name": "stderr",
     "output_type": "stream",
     "text": [
      "WARNING:root:Client received error from server: [ERROR - POST /blockify] Unsupported mimeType. The following mimeTypes are supported: ('audio/mp3', 'audio/wav', 'video/mp4', 'audio/mp4', 'audio/webm', 'video/webm')\n",
      "WARNING:root:Client received error from server: [ERROR - POST /blockify] Unsupported mimeType. The following mimeTypes are supported: ('audio/mp3', 'audio/wav', 'video/mp4', 'audio/mp4', 'audio/webm', 'video/webm')\n",
      "steamship.base.error.SteamshipError: [ERROR - POST /blockify] Unsupported mimeType. The following mimeTypes are supported: ('audio/mp3', 'audio/wav', 'video/mp4', 'audio/mp4', 'audio/webm', 'video/webm')\n"
     ]
    },
    {
     "name": "stdout",
     "output_type": "stream",
     "text": [
      "."
     ]
    },
    {
     "name": "stderr",
     "output_type": "stream",
     "text": [
      "WARNING:root:Client received error from server: [ERROR - POST /blockify] Unsupported mimeType. The following mimeTypes are supported: ('audio/mp3', 'audio/wav', 'video/mp4', 'audio/mp4', 'audio/webm', 'video/webm')\n",
      "WARNING:root:Client received error from server: [ERROR - POST /blockify] Unsupported mimeType. The following mimeTypes are supported: ('audio/mp3', 'audio/wav', 'video/mp4', 'audio/mp4', 'audio/webm', 'video/webm')\n",
      "steamship.base.error.SteamshipError: [ERROR - POST /blockify] Unsupported mimeType. The following mimeTypes are supported: ('audio/mp3', 'audio/wav', 'video/mp4', 'audio/mp4', 'audio/webm', 'video/webm')\n"
     ]
    },
    {
     "name": "stdout",
     "output_type": "stream",
     "text": [
      "."
     ]
    },
    {
     "name": "stderr",
     "output_type": "stream",
     "text": [
      "WARNING:root:Client received error from server: [ERROR - POST /blockify] Unsupported mimeType. The following mimeTypes are supported: ('audio/mp3', 'audio/wav', 'video/mp4', 'audio/mp4', 'audio/webm', 'video/webm')\n",
      "WARNING:root:Client received error from server: [ERROR - POST /blockify] Unsupported mimeType. The following mimeTypes are supported: ('audio/mp3', 'audio/wav', 'video/mp4', 'audio/mp4', 'audio/webm', 'video/webm')\n",
      "steamship.base.error.SteamshipError: [ERROR - POST /blockify] Unsupported mimeType. The following mimeTypes are supported: ('audio/mp3', 'audio/wav', 'video/mp4', 'audio/mp4', 'audio/webm', 'video/webm')\n"
     ]
    },
    {
     "name": "stdout",
     "output_type": "stream",
     "text": [
      "."
     ]
    },
    {
     "name": "stderr",
     "output_type": "stream",
     "text": [
      "WARNING:root:Client received error from server: [ERROR - POST /blockify] Unsupported mimeType. The following mimeTypes are supported: ('audio/mp3', 'audio/wav', 'video/mp4', 'audio/mp4', 'audio/webm', 'video/webm')\n",
      "WARNING:root:Client received error from server: [ERROR - POST /blockify] Unsupported mimeType. The following mimeTypes are supported: ('audio/mp3', 'audio/wav', 'video/mp4', 'audio/mp4', 'audio/webm', 'video/webm')\n",
      "steamship.base.error.SteamshipError: [ERROR - POST /blockify] Unsupported mimeType. The following mimeTypes are supported: ('audio/mp3', 'audio/wav', 'video/mp4', 'audio/mp4', 'audio/webm', 'video/webm')\n"
     ]
    },
    {
     "name": "stdout",
     "output_type": "stream",
     "text": [
      "."
     ]
    },
    {
     "name": "stderr",
     "output_type": "stream",
     "text": [
      "WARNING:root:Client received error from server: [ERROR - POST /blockify] Unsupported mimeType. The following mimeTypes are supported: ('audio/mp3', 'audio/wav', 'video/mp4', 'audio/mp4', 'audio/webm', 'video/webm')\n",
      "WARNING:root:Client received error from server: [ERROR - POST /blockify] Unsupported mimeType. The following mimeTypes are supported: ('audio/mp3', 'audio/wav', 'video/mp4', 'audio/mp4', 'audio/webm', 'video/webm')\n",
      "steamship.base.error.SteamshipError: [ERROR - POST /blockify] Unsupported mimeType. The following mimeTypes are supported: ('audio/mp3', 'audio/wav', 'video/mp4', 'audio/mp4', 'audio/webm', 'video/webm')\n",
      "WARNING:root:Client received error from server: [ERROR - POST /blockify] Unsupported mimeType. The following mimeTypes are supported: ('audio/mp3', 'audio/wav', 'video/mp4', 'audio/mp4', 'audio/webm', 'video/webm')\n",
      "WARNING:root:Client received error from server: [ERROR - POST /blockify] Unsupported mimeType. The following mimeTypes are supported: ('audio/mp3', 'audio/wav', 'video/mp4', 'audio/mp4', 'audio/webm', 'video/webm')\n",
      "steamship.base.error.SteamshipError: [ERROR - POST /blockify] Unsupported mimeType. The following mimeTypes are supported: ('audio/mp3', 'audio/wav', 'video/mp4', 'audio/mp4', 'audio/webm', 'video/webm')\n"
     ]
    },
    {
     "name": "stdout",
     "output_type": "stream",
     "text": [
      "."
     ]
    },
    {
     "name": "stderr",
     "output_type": "stream",
     "text": [
      "WARNING:root:Client received error from server: [ERROR - POST /blockify] Unsupported mimeType. The following mimeTypes are supported: ('audio/mp3', 'audio/wav', 'video/mp4', 'audio/mp4', 'audio/webm', 'video/webm')\n",
      "WARNING:root:Client received error from server: [ERROR - POST /blockify] Unsupported mimeType. The following mimeTypes are supported: ('audio/mp3', 'audio/wav', 'video/mp4', 'audio/mp4', 'audio/webm', 'video/webm')\n",
      "steamship.base.error.SteamshipError: [ERROR - POST /blockify] Unsupported mimeType. The following mimeTypes are supported: ('audio/mp3', 'audio/wav', 'video/mp4', 'audio/mp4', 'audio/webm', 'video/webm')\n"
     ]
    },
    {
     "name": "stdout",
     "output_type": "stream",
     "text": [
      "."
     ]
    },
    {
     "name": "stderr",
     "output_type": "stream",
     "text": [
      "WARNING:root:Client received error from server: [ERROR - POST /blockify] Unsupported mimeType. The following mimeTypes are supported: ('audio/mp3', 'audio/wav', 'video/mp4', 'audio/mp4', 'audio/webm', 'video/webm')\n",
      "WARNING:root:Client received error from server: [ERROR - POST /blockify] Unsupported mimeType. The following mimeTypes are supported: ('audio/mp3', 'audio/wav', 'video/mp4', 'audio/mp4', 'audio/webm', 'video/webm')\n",
      "steamship.base.error.SteamshipError: [ERROR - POST /blockify] Unsupported mimeType. The following mimeTypes are supported: ('audio/mp3', 'audio/wav', 'video/mp4', 'audio/mp4', 'audio/webm', 'video/webm')\n"
     ]
    },
    {
     "name": "stdout",
     "output_type": "stream",
     "text": [
      "."
     ]
    },
    {
     "name": "stderr",
     "output_type": "stream",
     "text": [
      "WARNING:root:Client received error from server: [ERROR - POST /blockify] Unsupported mimeType. The following mimeTypes are supported: ('audio/mp3', 'audio/wav', 'video/mp4', 'audio/mp4', 'audio/webm', 'video/webm')\n",
      "WARNING:root:Client received error from server: [ERROR - POST /blockify] Unsupported mimeType. The following mimeTypes are supported: ('audio/mp3', 'audio/wav', 'video/mp4', 'audio/mp4', 'audio/webm', 'video/webm')\n",
      "steamship.base.error.SteamshipError: [ERROR - POST /blockify] Unsupported mimeType. The following mimeTypes are supported: ('audio/mp3', 'audio/wav', 'video/mp4', 'audio/mp4', 'audio/webm', 'video/webm')\n"
     ]
    },
    {
     "name": "stdout",
     "output_type": "stream",
     "text": [
      ".."
     ]
    },
    {
     "name": "stderr",
     "output_type": "stream",
     "text": [
      "WARNING:root:Client received error from server: [ERROR - POST /blockify] Unsupported mimeType. The following mimeTypes are supported: ('audio/mp3', 'audio/wav', 'video/mp4', 'audio/mp4', 'audio/webm', 'video/webm')\n",
      "WARNING:root:Client received error from server: [ERROR - POST /blockify] Unsupported mimeType. The following mimeTypes are supported: ('audio/mp3', 'audio/wav', 'video/mp4', 'audio/mp4', 'audio/webm', 'video/webm')\n",
      "steamship.base.error.SteamshipError: [ERROR - POST /blockify] Unsupported mimeType. The following mimeTypes are supported: ('audio/mp3', 'audio/wav', 'video/mp4', 'audio/mp4', 'audio/webm', 'video/webm')\n"
     ]
    },
    {
     "name": "stdout",
     "output_type": "stream",
     "text": [
      "."
     ]
    },
    {
     "name": "stderr",
     "output_type": "stream",
     "text": [
      "WARNING:root:Client received error from server: [ERROR - POST /blockify] Unsupported mimeType. The following mimeTypes are supported: ('audio/mp3', 'audio/wav', 'video/mp4', 'audio/mp4', 'audio/webm', 'video/webm')\n",
      "WARNING:root:Client received error from server: [ERROR - POST /blockify] Unsupported mimeType. The following mimeTypes are supported: ('audio/mp3', 'audio/wav', 'video/mp4', 'audio/mp4', 'audio/webm', 'video/webm')\n",
      "steamship.base.error.SteamshipError: [ERROR - POST /blockify] Unsupported mimeType. The following mimeTypes are supported: ('audio/mp3', 'audio/wav', 'video/mp4', 'audio/mp4', 'audio/webm', 'video/webm')\n"
     ]
    },
    {
     "name": "stdout",
     "output_type": "stream",
     "text": [
      "."
     ]
    },
    {
     "name": "stderr",
     "output_type": "stream",
     "text": [
      "WARNING:root:Client received error from server: [ERROR - POST /blockify] Unsupported mimeType. The following mimeTypes are supported: ('audio/mp3', 'audio/wav', 'video/mp4', 'audio/mp4', 'audio/webm', 'video/webm')\n",
      "WARNING:root:Client received error from server: [ERROR - POST /blockify] Unsupported mimeType. The following mimeTypes are supported: ('audio/mp3', 'audio/wav', 'video/mp4', 'audio/mp4', 'audio/webm', 'video/webm')\n",
      "steamship.base.error.SteamshipError: [ERROR - POST /blockify] Unsupported mimeType. The following mimeTypes are supported: ('audio/mp3', 'audio/wav', 'video/mp4', 'audio/mp4', 'audio/webm', 'video/webm')\n"
     ]
    },
    {
     "name": "stdout",
     "output_type": "stream",
     "text": [
      "."
     ]
    },
    {
     "name": "stderr",
     "output_type": "stream",
     "text": [
      "WARNING:root:Client received error from server: [ERROR - POST /blockify] Unsupported mimeType. The following mimeTypes are supported: ('audio/mp3', 'audio/wav', 'video/mp4', 'audio/mp4', 'audio/webm', 'video/webm')\n",
      "WARNING:root:Client received error from server: [ERROR - POST /blockify] Unsupported mimeType. The following mimeTypes are supported: ('audio/mp3', 'audio/wav', 'video/mp4', 'audio/mp4', 'audio/webm', 'video/webm')\n",
      "steamship.base.error.SteamshipError: [ERROR - POST /blockify] Unsupported mimeType. The following mimeTypes are supported: ('audio/mp3', 'audio/wav', 'video/mp4', 'audio/mp4', 'audio/webm', 'video/webm')\n"
     ]
    }
   ],
   "source": [
    "skipped_urls = []\n",
    "while len(skipped_urls) < len(file_futures):\n",
    "    print(\".\", end=\"\")\n",
    "    for file_future, file, podcast_url, podcast_guest in file_futures:\n",
    "        if podcast_url not in skipped_urls:\n",
    "            try:\n",
    "                file_future.wait(max_timeout_s=2, retry_delay_s=1)\n",
    "            except:\n",
    "                pass\n",
    "            if file_future.state in (TaskState.succeeded, TaskState.failed):\n",
    "                print(file.id, file_future.state)\n",
    "                if file_future.task.state == TaskState.succeeded:\n",
    "                    try:\n",
    "                        skipped_urls.append(podcast_url)\n",
    "                        file = file.refresh().data\n",
    "                        f = File.create(\n",
    "                            client,\n",
    "                            tags=[\n",
    "                                Tag.CreateRequest(kind=\"youtube_url\", name=podcast_url),\n",
    "                                Tag.CreateRequest(kind=\"guest\", name=podcast_guest),\n",
    "                            ],\n",
    "                            blocks=file.blocks,\n",
    "                        ).data\n",
    "                        tags = f.blocks[0].tags\n",
    "                        print(len(tags), {tag.kind for tag in tags})\n",
    "                        file.delete()\n",
    "                    except Exception:\n",
    "                        pass\n",
    "\n",
    "    time.sleep(5)"
   ]
  },
  {
   "cell_type": "code",
   "execution_count": null,
   "id": "b0b2a7b7",
   "metadata": {},
   "outputs": [],
   "source": []
  }
 ],
 "metadata": {
  "kernelspec": {
   "display_name": "Python 3 (ipykernel)",
   "language": "python",
   "name": "python3"
  },
  "language_info": {
   "codemirror_mode": {
    "name": "ipython",
    "version": 3
   },
   "file_extension": ".py",
   "mimetype": "text/x-python",
   "name": "python",
   "nbconvert_exporter": "python",
   "pygments_lexer": "ipython3",
   "version": "3.10.8"
  }
 },
 "nbformat": 4,
 "nbformat_minor": 5
}
