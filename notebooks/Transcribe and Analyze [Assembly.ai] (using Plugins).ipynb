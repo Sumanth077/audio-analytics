{
 "cells": [
  {
   "cell_type": "code",
   "execution_count": 1,
   "id": "ce792ba6",
   "metadata": {},
   "outputs": [
    {
     "data": {
      "application/javascript": [
       "\n",
       "            setTimeout(function() {\n",
       "                var nbb_cell_id = 1;\n",
       "                var nbb_unformatted_code = \"%load_ext nb_black\";\n",
       "                var nbb_formatted_code = \"%load_ext nb_black\";\n",
       "                var nbb_cells = Jupyter.notebook.get_cells();\n",
       "                for (var i = 0; i < nbb_cells.length; ++i) {\n",
       "                    if (nbb_cells[i].input_prompt_number == nbb_cell_id) {\n",
       "                        if (nbb_cells[i].get_text() == nbb_unformatted_code) {\n",
       "                             nbb_cells[i].set_text(nbb_formatted_code);\n",
       "                        }\n",
       "                        break;\n",
       "                    }\n",
       "                }\n",
       "            }, 500);\n",
       "            "
      ],
      "text/plain": [
       "<IPython.core.display.Javascript object>"
      ]
     },
     "metadata": {},
     "output_type": "display_data"
    }
   ],
   "source": [
    "%load_ext nb_black"
   ]
  },
  {
   "cell_type": "code",
   "execution_count": 2,
   "id": "1541d48f",
   "metadata": {},
   "outputs": [
    {
     "data": {
      "application/javascript": [
       "\n",
       "            setTimeout(function() {\n",
       "                var nbb_cell_id = 2;\n",
       "                var nbb_unformatted_code = \"import time\\nfrom tqdm import tqdm\";\n",
       "                var nbb_formatted_code = \"import time\\nfrom tqdm import tqdm\";\n",
       "                var nbb_cells = Jupyter.notebook.get_cells();\n",
       "                for (var i = 0; i < nbb_cells.length; ++i) {\n",
       "                    if (nbb_cells[i].input_prompt_number == nbb_cell_id) {\n",
       "                        if (nbb_cells[i].get_text() == nbb_unformatted_code) {\n",
       "                             nbb_cells[i].set_text(nbb_formatted_code);\n",
       "                        }\n",
       "                        break;\n",
       "                    }\n",
       "                }\n",
       "            }, 500);\n",
       "            "
      ],
      "text/plain": [
       "<IPython.core.display.Javascript object>"
      ]
     },
     "metadata": {},
     "output_type": "display_data"
    }
   ],
   "source": [
    "import time\n",
    "from tqdm import tqdm"
   ]
  },
  {
   "cell_type": "code",
   "execution_count": 3,
   "id": "30e570c0",
   "metadata": {},
   "outputs": [
    {
     "data": {
      "application/javascript": [
       "\n",
       "            setTimeout(function() {\n",
       "                var nbb_cell_id = 3;\n",
       "                var nbb_unformatted_code = \"from steamship import Steamship, PluginInstance, File\\n\\nfrom steamship import Block, Tag\\nfrom steamship.base.tasks import TaskState\";\n",
       "                var nbb_formatted_code = \"from steamship import Steamship, PluginInstance, File\\n\\nfrom steamship import Block, Tag\\nfrom steamship.base.tasks import TaskState\";\n",
       "                var nbb_cells = Jupyter.notebook.get_cells();\n",
       "                for (var i = 0; i < nbb_cells.length; ++i) {\n",
       "                    if (nbb_cells[i].input_prompt_number == nbb_cell_id) {\n",
       "                        if (nbb_cells[i].get_text() == nbb_unformatted_code) {\n",
       "                             nbb_cells[i].set_text(nbb_formatted_code);\n",
       "                        }\n",
       "                        break;\n",
       "                    }\n",
       "                }\n",
       "            }, 500);\n",
       "            "
      ],
      "text/plain": [
       "<IPython.core.display.Javascript object>"
      ]
     },
     "metadata": {},
     "output_type": "display_data"
    }
   ],
   "source": [
    "from steamship import Steamship, PluginInstance, File\n",
    "\n",
    "from steamship import Block, Tag\n",
    "from steamship.base.tasks import TaskState"
   ]
  },
  {
   "cell_type": "code",
   "execution_count": 4,
   "id": "03395155",
   "metadata": {},
   "outputs": [
    {
     "data": {
      "application/javascript": [
       "\n",
       "            setTimeout(function() {\n",
       "                var nbb_cell_id = 4;\n",
       "                var nbb_unformatted_code = \"client = Steamship(profile=\\\"prod\\\", workspace=\\\"podcasts\\\")\\n\\n\\ndef get_steamship_client():\\n    return client\";\n",
       "                var nbb_formatted_code = \"client = Steamship(profile=\\\"prod\\\", workspace=\\\"podcasts\\\")\\n\\n\\ndef get_steamship_client():\\n    return client\";\n",
       "                var nbb_cells = Jupyter.notebook.get_cells();\n",
       "                for (var i = 0; i < nbb_cells.length; ++i) {\n",
       "                    if (nbb_cells[i].input_prompt_number == nbb_cell_id) {\n",
       "                        if (nbb_cells[i].get_text() == nbb_unformatted_code) {\n",
       "                             nbb_cells[i].set_text(nbb_formatted_code);\n",
       "                        }\n",
       "                        break;\n",
       "                    }\n",
       "                }\n",
       "            }, 500);\n",
       "            "
      ],
      "text/plain": [
       "<IPython.core.display.Javascript object>"
      ]
     },
     "metadata": {},
     "output_type": "display_data"
    }
   ],
   "source": [
    "client = Steamship(profile=\"prod\", workspace=\"podcasts\")\n",
    "\n",
    "\n",
    "def get_steamship_client():\n",
    "    return client"
   ]
  },
  {
   "cell_type": "code",
   "execution_count": 5,
   "id": "3c3e206e",
   "metadata": {},
   "outputs": [
    {
     "name": "stdout",
     "output_type": "stream",
     "text": [
      "importer B56D535F-2E5B-4532-B467-B4B5E40EFCC6\n"
     ]
    },
    {
     "data": {
      "application/javascript": [
       "\n",
       "            setTimeout(function() {\n",
       "                var nbb_cell_id = 5;\n",
       "                var nbb_unformatted_code = \"FILE_IMPORTER_HANDLE = \\\"youtube-file-importer\\\"\\n\\nfile_importer = PluginInstance.create(\\n    client,\\n    plugin_handle=FILE_IMPORTER_HANDLE,\\n    config={},\\n).data\\nprint(\\\"importer\\\", file_importer.id)\";\n",
       "                var nbb_formatted_code = \"FILE_IMPORTER_HANDLE = \\\"youtube-file-importer\\\"\\n\\nfile_importer = PluginInstance.create(\\n    client,\\n    plugin_handle=FILE_IMPORTER_HANDLE,\\n    config={},\\n).data\\nprint(\\\"importer\\\", file_importer.id)\";\n",
       "                var nbb_cells = Jupyter.notebook.get_cells();\n",
       "                for (var i = 0; i < nbb_cells.length; ++i) {\n",
       "                    if (nbb_cells[i].input_prompt_number == nbb_cell_id) {\n",
       "                        if (nbb_cells[i].get_text() == nbb_unformatted_code) {\n",
       "                             nbb_cells[i].set_text(nbb_formatted_code);\n",
       "                        }\n",
       "                        break;\n",
       "                    }\n",
       "                }\n",
       "            }, 500);\n",
       "            "
      ],
      "text/plain": [
       "<IPython.core.display.Javascript object>"
      ]
     },
     "metadata": {},
     "output_type": "display_data"
    }
   ],
   "source": [
    "FILE_IMPORTER_HANDLE = \"youtube-file-importer\"\n",
    "\n",
    "file_importer = PluginInstance.create(\n",
    "    client,\n",
    "    plugin_handle=FILE_IMPORTER_HANDLE,\n",
    "    config={},\n",
    ").data\n",
    "print(\"importer\", file_importer.id)"
   ]
  },
  {
   "cell_type": "code",
   "execution_count": 6,
   "id": "4e8b850e",
   "metadata": {},
   "outputs": [
    {
     "name": "stdout",
     "output_type": "stream",
     "text": [
      "blockifier 3326998E-064D-41B2-BF2D-077BBED26A03\n"
     ]
    },
    {
     "data": {
      "application/javascript": [
       "\n",
       "            setTimeout(function() {\n",
       "                var nbb_cell_id = 6;\n",
       "                var nbb_unformatted_code = \"BLOCKIFIER_HANDLE = \\\"s2t-blockifier-default\\\"\\n\\ns2t_blockifier = PluginInstance.create(\\n    client,\\n    plugin_handle=BLOCKIFIER_HANDLE,\\n    config={},\\n).data\\nprint(\\\"blockifier\\\", s2t_blockifier.id)\";\n",
       "                var nbb_formatted_code = \"BLOCKIFIER_HANDLE = \\\"s2t-blockifier-default\\\"\\n\\ns2t_blockifier = PluginInstance.create(\\n    client,\\n    plugin_handle=BLOCKIFIER_HANDLE,\\n    config={},\\n).data\\nprint(\\\"blockifier\\\", s2t_blockifier.id)\";\n",
       "                var nbb_cells = Jupyter.notebook.get_cells();\n",
       "                for (var i = 0; i < nbb_cells.length; ++i) {\n",
       "                    if (nbb_cells[i].input_prompt_number == nbb_cell_id) {\n",
       "                        if (nbb_cells[i].get_text() == nbb_unformatted_code) {\n",
       "                             nbb_cells[i].set_text(nbb_formatted_code);\n",
       "                        }\n",
       "                        break;\n",
       "                    }\n",
       "                }\n",
       "            }, 500);\n",
       "            "
      ],
      "text/plain": [
       "<IPython.core.display.Javascript object>"
      ]
     },
     "metadata": {},
     "output_type": "display_data"
    }
   ],
   "source": [
    "BLOCKIFIER_HANDLE = \"s2t-blockifier-default\"\n",
    "\n",
    "s2t_blockifier = PluginInstance.create(\n",
    "    client,\n",
    "    plugin_handle=BLOCKIFIER_HANDLE,\n",
    "    config={},\n",
    ").data\n",
    "print(\"blockifier\", s2t_blockifier.id)"
   ]
  },
  {
   "cell_type": "code",
   "execution_count": 7,
   "id": "a4d7ab7a",
   "metadata": {},
   "outputs": [
    {
     "data": {
      "application/javascript": [
       "\n",
       "            setTimeout(function() {\n",
       "                var nbb_cell_id = 7;\n",
       "                var nbb_unformatted_code = \"podcasts = [\\n    (\\\"https://youtu.be/uXyS-74sRTE\\\", \\\"Louis Theroux\\\"),\\n    (\\\"https://youtu.be/vGc4mg5pul4\\\", \\\"Neil deGrasse Tyson\\\"),\\n    (\\\"https://youtu.be/rY5jCvRHEFk\\\", \\\"Russell Brand\\\"),\\n    (\\\"https://youtu.be/Rxmw9eizOAo\\\", \\\"Graham Hancock\\\")\\n]\";\n",
       "                var nbb_formatted_code = \"podcasts = [\\n    (\\\"https://youtu.be/uXyS-74sRTE\\\", \\\"Louis Theroux\\\"),\\n    (\\\"https://youtu.be/vGc4mg5pul4\\\", \\\"Neil deGrasse Tyson\\\"),\\n    (\\\"https://youtu.be/rY5jCvRHEFk\\\", \\\"Russell Brand\\\"),\\n    (\\\"https://youtu.be/Rxmw9eizOAo\\\", \\\"Graham Hancock\\\"),\\n]\";\n",
       "                var nbb_cells = Jupyter.notebook.get_cells();\n",
       "                for (var i = 0; i < nbb_cells.length; ++i) {\n",
       "                    if (nbb_cells[i].input_prompt_number == nbb_cell_id) {\n",
       "                        if (nbb_cells[i].get_text() == nbb_unformatted_code) {\n",
       "                             nbb_cells[i].set_text(nbb_formatted_code);\n",
       "                        }\n",
       "                        break;\n",
       "                    }\n",
       "                }\n",
       "            }, 500);\n",
       "            "
      ],
      "text/plain": [
       "<IPython.core.display.Javascript object>"
      ]
     },
     "metadata": {},
     "output_type": "display_data"
    }
   ],
   "source": [
    "podcasts = [\n",
    "    (\"https://youtu.be/uXyS-74sRTE\", \"Louis Theroux\"),\n",
    "    (\"https://youtu.be/vGc4mg5pul4\", \"Neil deGrasse Tyson\"),\n",
    "    (\"https://youtu.be/rY5jCvRHEFk\", \"Russell Brand\"),\n",
    "    (\"https://youtu.be/Rxmw9eizOAo\", \"Graham Hancock\"),\n",
    "]"
   ]
  },
  {
   "cell_type": "code",
   "execution_count": 8,
   "id": "329a7b8c",
   "metadata": {},
   "outputs": [
    {
     "name": "stderr",
     "output_type": "stream",
     "text": [
      "100%|█████████████████████████████████████████████████████████████████████████████████████████████████████████████████████████████████████████████████████████████████████| 4/4 [00:58<00:00, 14.72s/it]\n"
     ]
    },
    {
     "data": {
      "application/javascript": [
       "\n",
       "            setTimeout(function() {\n",
       "                var nbb_cell_id = 8;\n",
       "                var nbb_unformatted_code = \"file_futures = []\\nfor podcast_url, podcast_guest in tqdm(podcasts):\\n    file = File.create(\\n        client, plugin_instance=file_importer.handle, url=podcast_url\\n    ).data\\n    file_futures.append(\\n        (\\n            file.blockify(plugin_instance=s2t_blockifier.handle),\\n            file,\\n            podcast_url,\\n            podcast_guest,\\n        )\\n    )\";\n",
       "                var nbb_formatted_code = \"file_futures = []\\nfor podcast_url, podcast_guest in tqdm(podcasts):\\n    file = File.create(\\n        client, plugin_instance=file_importer.handle, url=podcast_url\\n    ).data\\n    file_futures.append(\\n        (\\n            file.blockify(plugin_instance=s2t_blockifier.handle),\\n            file,\\n            podcast_url,\\n            podcast_guest,\\n        )\\n    )\";\n",
       "                var nbb_cells = Jupyter.notebook.get_cells();\n",
       "                for (var i = 0; i < nbb_cells.length; ++i) {\n",
       "                    if (nbb_cells[i].input_prompt_number == nbb_cell_id) {\n",
       "                        if (nbb_cells[i].get_text() == nbb_unformatted_code) {\n",
       "                             nbb_cells[i].set_text(nbb_formatted_code);\n",
       "                        }\n",
       "                        break;\n",
       "                    }\n",
       "                }\n",
       "            }, 500);\n",
       "            "
      ],
      "text/plain": [
       "<IPython.core.display.Javascript object>"
      ]
     },
     "metadata": {},
     "output_type": "display_data"
    }
   ],
   "source": [
    "file_futures = []\n",
    "for podcast_url, podcast_guest in tqdm(podcasts):\n",
    "    file = File.create(\n",
    "        client, plugin_instance=file_importer.handle, url=podcast_url\n",
    "    ).data\n",
    "    file_futures.append(\n",
    "        (\n",
    "            file.blockify(plugin_instance=s2t_blockifier.handle),\n",
    "            file,\n",
    "            podcast_url,\n",
    "            podcast_guest,\n",
    "        )\n",
    "    )"
   ]
  },
  {
   "cell_type": "code",
   "execution_count": 10,
   "id": "cbd76fbf",
   "metadata": {},
   "outputs": [
    {
     "name": "stdout",
     "output_type": "stream",
     "text": [
      ".BC45737C-7AB9-4D0A-991C-4729CE493636 succeeded\n",
      "CDA7F09F-11B0-4C36-9AB8-7EC2F4375EA0 failed\n",
      "DEC50DA6-A333-4E74-B95B-D66DC7D908DC succeeded\n"
     ]
    },
    {
     "name": "stderr",
     "output_type": "stream",
     "text": [
      "WARNING:root:Client received error from server: [ObjectNotFound]\n",
      "Unable to find object id=DEC50DA6-A333-4E74-B95B-D66DC7D908DC handle=?\n",
      "ERROR:root:Client received error from server: [ObjectNotFound]\n",
      "Unable to find object id=DEC50DA6-A333-4E74-B95B-D66DC7D908DC handle=?\n"
     ]
    },
    {
     "name": "stdout",
     "output_type": "stream",
     "text": [
      "7E2C9BA0-452D-4D8F-BDF3-0FEB6B3D6BF8 succeeded\n"
     ]
    },
    {
     "name": "stderr",
     "output_type": "stream",
     "text": [
      "WARNING:root:Client received error from server: [ObjectNotFound]\n",
      "Unable to find object id=7E2C9BA0-452D-4D8F-BDF3-0FEB6B3D6BF8 handle=?\n",
      "ERROR:root:Client received error from server: [ObjectNotFound]\n",
      "Unable to find object id=7E2C9BA0-452D-4D8F-BDF3-0FEB6B3D6BF8 handle=?\n"
     ]
    },
    {
     "name": "stdout",
     "output_type": "stream",
     "text": [
      ".CDA7F09F-11B0-4C36-9AB8-7EC2F4375EA0 failed\n",
      ".CDA7F09F-11B0-4C36-9AB8-7EC2F4375EA0 failed\n",
      ".CDA7F09F-11B0-4C36-9AB8-7EC2F4375EA0 failed\n",
      ".CDA7F09F-11B0-4C36-9AB8-7EC2F4375EA0 failed\n",
      ".CDA7F09F-11B0-4C36-9AB8-7EC2F4375EA0 failed\n",
      ".CDA7F09F-11B0-4C36-9AB8-7EC2F4375EA0 failed\n",
      ".CDA7F09F-11B0-4C36-9AB8-7EC2F4375EA0 failed\n",
      ".CDA7F09F-11B0-4C36-9AB8-7EC2F4375EA0 failed\n",
      ".CDA7F09F-11B0-4C36-9AB8-7EC2F4375EA0 failed\n",
      ".CDA7F09F-11B0-4C36-9AB8-7EC2F4375EA0 failed\n",
      ".CDA7F09F-11B0-4C36-9AB8-7EC2F4375EA0 failed\n",
      ".CDA7F09F-11B0-4C36-9AB8-7EC2F4375EA0 failed\n",
      ".CDA7F09F-11B0-4C36-9AB8-7EC2F4375EA0 failed\n",
      ".CDA7F09F-11B0-4C36-9AB8-7EC2F4375EA0 failed\n"
     ]
    },
    {
     "ename": "KeyboardInterrupt",
     "evalue": "",
     "output_type": "error",
     "traceback": [
      "\u001b[0;31m---------------------------------------------------------------------------\u001b[0m",
      "\u001b[0;31mKeyboardInterrupt\u001b[0m                         Traceback (most recent call last)",
      "Input \u001b[0;32mIn [10]\u001b[0m, in \u001b[0;36m<cell line: 2>\u001b[0;34m()\u001b[0m\n\u001b[1;32m     27\u001b[0m                 \u001b[38;5;28;01mexcept\u001b[39;00m \u001b[38;5;167;01mException\u001b[39;00m:\n\u001b[1;32m     28\u001b[0m                     \u001b[38;5;28;01mpass\u001b[39;00m\n\u001b[0;32m---> 30\u001b[0m \u001b[43mtime\u001b[49m\u001b[38;5;241;43m.\u001b[39;49m\u001b[43msleep\u001b[49m\u001b[43m(\u001b[49m\u001b[38;5;241;43m5\u001b[39;49m\u001b[43m)\u001b[49m\n",
      "\u001b[0;31mKeyboardInterrupt\u001b[0m: "
     ]
    },
    {
     "data": {
      "application/javascript": [
       "\n",
       "            setTimeout(function() {\n",
       "                var nbb_cell_id = 10;\n",
       "                var nbb_unformatted_code = \"skipped_urls = []\\nwhile len(skipped_urls) < len(file_futures):\\n    print(\\\".\\\", end=\\\"\\\")\\n    for file_future, file, podcast_url, podcast_guest in file_futures:\\n        if podcast_url not in skipped_urls:\\n            try:\\n                file_future.wait(max_timeout_s=2, retry_delay_s=1)\\n            except:\\n                pass\\n            if file_future.task.state in (TaskState.succeeded, TaskState.failed):\\n                print(file.id, file_future.task.state)\\n                if file_future.task.state == TaskState.succeeded:\\n                    try:\\n                        skipped_urls.append(podcast_url)\\n                        file = file.refresh().data\\n                        f = File.create(\\n                            client,\\n                            tags=[\\n                                Tag.CreateRequest(kind=\\\"youtube_url\\\", name=podcast_url),\\n                                Tag.CreateRequest(kind=\\\"guest\\\", name=podcast_guest),\\n                            ],\\n                            blocks=file.blocks,\\n                        ).data\\n                        tags = f.blocks[0].tags\\n                        print(len(tags), {tag.kind for tag in tags})\\n                        file.delete()\\n                    except Exception:\\n                        pass\\n\\n    time.sleep(5)\";\n",
       "                var nbb_formatted_code = \"skipped_urls = []\\nwhile len(skipped_urls) < len(file_futures):\\n    print(\\\".\\\", end=\\\"\\\")\\n    for file_future, file, podcast_url, podcast_guest in file_futures:\\n        if podcast_url not in skipped_urls:\\n            try:\\n                file_future.wait(max_timeout_s=2, retry_delay_s=1)\\n            except:\\n                pass\\n            if file_future.task.state in (TaskState.succeeded, TaskState.failed):\\n                print(file.id, file_future.task.state)\\n                if file_future.task.state == TaskState.succeeded:\\n                    try:\\n                        skipped_urls.append(podcast_url)\\n                        file = file.refresh().data\\n                        f = File.create(\\n                            client,\\n                            tags=[\\n                                Tag.CreateRequest(kind=\\\"youtube_url\\\", name=podcast_url),\\n                                Tag.CreateRequest(kind=\\\"guest\\\", name=podcast_guest),\\n                            ],\\n                            blocks=file.blocks,\\n                        ).data\\n                        tags = f.blocks[0].tags\\n                        print(len(tags), {tag.kind for tag in tags})\\n                        file.delete()\\n                    except Exception:\\n                        pass\\n\\n    time.sleep(5)\";\n",
       "                var nbb_cells = Jupyter.notebook.get_cells();\n",
       "                for (var i = 0; i < nbb_cells.length; ++i) {\n",
       "                    if (nbb_cells[i].input_prompt_number == nbb_cell_id) {\n",
       "                        if (nbb_cells[i].get_text() == nbb_unformatted_code) {\n",
       "                             nbb_cells[i].set_text(nbb_formatted_code);\n",
       "                        }\n",
       "                        break;\n",
       "                    }\n",
       "                }\n",
       "            }, 500);\n",
       "            "
      ],
      "text/plain": [
       "<IPython.core.display.Javascript object>"
      ]
     },
     "metadata": {},
     "output_type": "display_data"
    }
   ],
   "source": [
    "skipped_urls = []\n",
    "while len(skipped_urls) < len(file_futures):\n",
    "    print(\".\", end=\"\")\n",
    "    for file_future, file, podcast_url, podcast_guest in file_futures:\n",
    "        if podcast_url not in skipped_urls:\n",
    "            try:\n",
    "                file_future.wait(max_timeout_s=2, retry_delay_s=1)\n",
    "            except:\n",
    "                pass\n",
    "            if file_future.task.state in (TaskState.succeeded, TaskState.failed):\n",
    "                print(file.id, file_future.task.state)\n",
    "                if file_future.task.state == TaskState.succeeded:\n",
    "                    try:\n",
    "                        skipped_urls.append(podcast_url)\n",
    "                        file = file.refresh().data\n",
    "                        f = File.create(\n",
    "                            client,\n",
    "                            tags=[\n",
    "                                Tag.CreateRequest(kind=\"youtube_url\", name=podcast_url),\n",
    "                                Tag.CreateRequest(kind=\"guest\", name=podcast_guest),\n",
    "                            ],\n",
    "                            blocks=file.blocks,\n",
    "                        ).data\n",
    "                        tags = f.blocks[0].tags\n",
    "                        print(len(tags), {tag.kind for tag in tags})\n",
    "                        file.delete()\n",
    "                    except Exception:\n",
    "                        pass\n",
    "\n",
    "    time.sleep(5)"
   ]
  },
  {
   "cell_type": "code",
   "execution_count": null,
   "id": "5c0a6f4b",
   "metadata": {},
   "outputs": [],
   "source": []
  }
 ],
 "metadata": {
  "kernelspec": {
   "display_name": "Python 3 (ipykernel)",
   "language": "python",
   "name": "python3"
  },
  "language_info": {
   "codemirror_mode": {
    "name": "ipython",
    "version": 3
   },
   "file_extension": ".py",
   "mimetype": "text/x-python",
   "name": "python",
   "nbconvert_exporter": "python",
   "pygments_lexer": "ipython3",
   "version": "3.8.9"
  }
 },
 "nbformat": 4,
 "nbformat_minor": 5
}
