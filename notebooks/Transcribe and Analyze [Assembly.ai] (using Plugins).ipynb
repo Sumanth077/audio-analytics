{
 "cells": [
  {
   "cell_type": "code",
   "execution_count": 1,
   "id": "ce792ba6",
   "metadata": {},
   "outputs": [
    {
     "data": {
      "application/javascript": [
       "\n",
       "            setTimeout(function() {\n",
       "                var nbb_cell_id = 1;\n",
       "                var nbb_unformatted_code = \"%load_ext nb_black\";\n",
       "                var nbb_formatted_code = \"%load_ext nb_black\";\n",
       "                var nbb_cells = Jupyter.notebook.get_cells();\n",
       "                for (var i = 0; i < nbb_cells.length; ++i) {\n",
       "                    if (nbb_cells[i].input_prompt_number == nbb_cell_id) {\n",
       "                        if (nbb_cells[i].get_text() == nbb_unformatted_code) {\n",
       "                             nbb_cells[i].set_text(nbb_formatted_code);\n",
       "                        }\n",
       "                        break;\n",
       "                    }\n",
       "                }\n",
       "            }, 500);\n",
       "            "
      ],
      "text/plain": [
       "<IPython.core.display.Javascript object>"
      ]
     },
     "metadata": {},
     "output_type": "display_data"
    }
   ],
   "source": [
    "%load_ext nb_black"
   ]
  },
  {
   "cell_type": "code",
   "execution_count": 16,
   "id": "1541d48f",
   "metadata": {},
   "outputs": [
    {
     "data": {
      "application/javascript": [
       "\n",
       "            setTimeout(function() {\n",
       "                var nbb_cell_id = 16;\n",
       "                var nbb_unformatted_code = \"import time\\nfrom tqdm import tqdm\";\n",
       "                var nbb_formatted_code = \"import time\\nfrom tqdm import tqdm\";\n",
       "                var nbb_cells = Jupyter.notebook.get_cells();\n",
       "                for (var i = 0; i < nbb_cells.length; ++i) {\n",
       "                    if (nbb_cells[i].input_prompt_number == nbb_cell_id) {\n",
       "                        if (nbb_cells[i].get_text() == nbb_unformatted_code) {\n",
       "                             nbb_cells[i].set_text(nbb_formatted_code);\n",
       "                        }\n",
       "                        break;\n",
       "                    }\n",
       "                }\n",
       "            }, 500);\n",
       "            "
      ],
      "text/plain": [
       "<IPython.core.display.Javascript object>"
      ]
     },
     "metadata": {},
     "output_type": "display_data"
    }
   ],
   "source": [
    "import time\n",
    "from tqdm import tqdm"
   ]
  },
  {
   "cell_type": "code",
   "execution_count": 1,
   "id": "30e570c0",
   "metadata": {},
   "outputs": [],
   "source": [
    "from steamship import Steamship, PluginInstance, File\n",
    "\n",
    "from steamship import Block, Tag\n",
    "from steamship.base.tasks import TaskState"
   ]
  },
  {
   "cell_type": "code",
   "execution_count": 2,
   "id": "03395155",
   "metadata": {},
   "outputs": [],
   "source": [
    "client = Steamship(profile=\"staging\")\n",
    "\n",
    "\n",
    "def get_steamship_client():\n",
    "    return client"
   ]
  },
  {
   "cell_type": "code",
   "execution_count": 5,
   "id": "3c3e206e",
   "metadata": {},
   "outputs": [
    {
     "name": "stdout",
     "output_type": "stream",
     "text": [
      "importer E2760A66-B520-46EB-9C28-224B7815979C\n"
     ]
    },
    {
     "data": {
      "application/javascript": [
       "\n",
       "            setTimeout(function() {\n",
       "                var nbb_cell_id = 5;\n",
       "                var nbb_unformatted_code = \"FILE_IMPORTER_HANDLE = \\\"youtube-file-importer\\\"\\n\\nfile_importer = PluginInstance.create(\\n    client,\\n    plugin_handle=FILE_IMPORTER_HANDLE,\\n    config={},\\n).data\\nprint(\\\"importer\\\", file_importer.id)\";\n",
       "                var nbb_formatted_code = \"FILE_IMPORTER_HANDLE = \\\"youtube-file-importer\\\"\\n\\nfile_importer = PluginInstance.create(\\n    client,\\n    plugin_handle=FILE_IMPORTER_HANDLE,\\n    config={},\\n).data\\nprint(\\\"importer\\\", file_importer.id)\";\n",
       "                var nbb_cells = Jupyter.notebook.get_cells();\n",
       "                for (var i = 0; i < nbb_cells.length; ++i) {\n",
       "                    if (nbb_cells[i].input_prompt_number == nbb_cell_id) {\n",
       "                        if (nbb_cells[i].get_text() == nbb_unformatted_code) {\n",
       "                             nbb_cells[i].set_text(nbb_formatted_code);\n",
       "                        }\n",
       "                        break;\n",
       "                    }\n",
       "                }\n",
       "            }, 500);\n",
       "            "
      ],
      "text/plain": [
       "<IPython.core.display.Javascript object>"
      ]
     },
     "metadata": {},
     "output_type": "display_data"
    }
   ],
   "source": [
    "FILE_IMPORTER_HANDLE = \"youtube-file-importer\"\n",
    "\n",
    "file_importer = PluginInstance.create(\n",
    "    client,\n",
    "    plugin_handle=FILE_IMPORTER_HANDLE,\n",
    "    config={},\n",
    ").data\n",
    "print(\"importer\", file_importer.id)"
   ]
  },
  {
   "cell_type": "code",
   "execution_count": 6,
   "id": "4e8b850e",
   "metadata": {},
   "outputs": [
    {
     "name": "stdout",
     "output_type": "stream",
     "text": [
      "blockifier A48D54AA-A613-491A-B724-BC055B528563\n"
     ]
    },
    {
     "data": {
      "application/javascript": [
       "\n",
       "            setTimeout(function() {\n",
       "                var nbb_cell_id = 6;\n",
       "                var nbb_unformatted_code = \"BLOCKIFIER_HANDLE = \\\"assemblyai-s2t-blockifier\\\"\\n\\ns2t_blockifier = PluginInstance.create(\\n    client,\\n    plugin_handle=BLOCKIFIER_HANDLE,\\n    config={},\\n).data\\nprint(\\\"blockifier\\\", s2t_blockifier.id)\";\n",
       "                var nbb_formatted_code = \"BLOCKIFIER_HANDLE = \\\"assemblyai-s2t-blockifier\\\"\\n\\ns2t_blockifier = PluginInstance.create(\\n    client,\\n    plugin_handle=BLOCKIFIER_HANDLE,\\n    config={},\\n).data\\nprint(\\\"blockifier\\\", s2t_blockifier.id)\";\n",
       "                var nbb_cells = Jupyter.notebook.get_cells();\n",
       "                for (var i = 0; i < nbb_cells.length; ++i) {\n",
       "                    if (nbb_cells[i].input_prompt_number == nbb_cell_id) {\n",
       "                        if (nbb_cells[i].get_text() == nbb_unformatted_code) {\n",
       "                             nbb_cells[i].set_text(nbb_formatted_code);\n",
       "                        }\n",
       "                        break;\n",
       "                    }\n",
       "                }\n",
       "            }, 500);\n",
       "            "
      ],
      "text/plain": [
       "<IPython.core.display.Javascript object>"
      ]
     },
     "metadata": {},
     "output_type": "display_data"
    }
   ],
   "source": [
    "BLOCKIFIER_HANDLE = \"assemblyai-s2t-blockifier\"\n",
    "\n",
    "s2t_blockifier = PluginInstance.create(\n",
    "    client,\n",
    "    plugin_handle=BLOCKIFIER_HANDLE,\n",
    "    config={},\n",
    ").data\n",
    "print(\"blockifier\", s2t_blockifier.id)"
   ]
  },
  {
   "cell_type": "code",
   "execution_count": null,
   "id": "ae42bc4d",
   "metadata": {},
   "outputs": [],
   "source": [
    "[\n",
    "    (\"https://youtu.be/G0Cp7DrvNLQ\", \"Randall Carlson\"),\n",
    "    (\"https://youtu.be/fTAPaHcLAhw\", \"Wiz Khalifa\"),\n",
    "    (\"https://youtu.be/Oyb1xz7waY8\", \"Macaulay Culkin\"),\n",
    "    (\"https://youtu.be/_Z-RdKb1TPg\", \"Theo Von\"),\n",
    "    (\"https://youtu.be/pwaWilO_Pig\", \"Matthew Walker\"),\n",
    "    (\"https://youtu.be/A_7RmheFRz0\", \"Jamie Foxx\"),\n",
    "\n",
    "]"
   ]
  },
  {
   "cell_type": "code",
   "execution_count": 31,
   "id": "a4d7ab7a",
   "metadata": {},
   "outputs": [
    {
     "data": {
      "application/javascript": [
       "\n",
       "            setTimeout(function() {\n",
       "                var nbb_cell_id = 31;\n",
       "                var nbb_unformatted_code = \"podcasts = [\\n    (\\\"https://youtu.be/7MNv4_rTkfU\\\", \\\"Mike Tyson\\\"),\\n    (\\\"https://youtu.be/vIeFt88Hm8s\\\", \\\"Jordan Peterson\\\"),\\n    (\\\"https://youtu.be/9Xc7DN-noAc\\\", \\\"Jordan Peterson\\\"),\\n    (\\\"https://youtu.be/qxOeWuAHOiw\\\", \\\"Kanye West\\\"),\\n    (\\\"https://youtu.be/2O-iLk1G_ng\\\", \\\"Bernie Sanders\\\"),\\n]\";\n",
       "                var nbb_formatted_code = \"podcasts = [\\n    (\\\"https://youtu.be/7MNv4_rTkfU\\\", \\\"Mike Tyson\\\"),\\n    (\\\"https://youtu.be/vIeFt88Hm8s\\\", \\\"Jordan Peterson\\\"),\\n    (\\\"https://youtu.be/9Xc7DN-noAc\\\", \\\"Jordan Peterson\\\"),\\n    (\\\"https://youtu.be/qxOeWuAHOiw\\\", \\\"Kanye West\\\"),\\n    (\\\"https://youtu.be/2O-iLk1G_ng\\\", \\\"Bernie Sanders\\\"),\\n]\";\n",
       "                var nbb_cells = Jupyter.notebook.get_cells();\n",
       "                for (var i = 0; i < nbb_cells.length; ++i) {\n",
       "                    if (nbb_cells[i].input_prompt_number == nbb_cell_id) {\n",
       "                        if (nbb_cells[i].get_text() == nbb_unformatted_code) {\n",
       "                             nbb_cells[i].set_text(nbb_formatted_code);\n",
       "                        }\n",
       "                        break;\n",
       "                    }\n",
       "                }\n",
       "            }, 500);\n",
       "            "
      ],
      "text/plain": [
       "<IPython.core.display.Javascript object>"
      ]
     },
     "metadata": {},
     "output_type": "display_data"
    }
   ],
   "source": [
    "podcasts = [\n",
    "    (\"https://youtu.be/7MNv4_rTkfU\", \"Mike Tyson\"),\n",
    "    (\"https://youtu.be/vIeFt88Hm8s\", \"Jordan Peterson\"),\n",
    "    (\"https://youtu.be/9Xc7DN-noAc\", \"Jordan Peterson\"),\n",
    "    (\"https://youtu.be/qxOeWuAHOiw\", \"Kanye West\"),\n",
    "    (\"https://youtu.be/2O-iLk1G_ng\", \"Bernie Sanders\"),\n",
    "]"
   ]
  },
  {
   "cell_type": "code",
   "execution_count": 32,
   "id": "329a7b8c",
   "metadata": {},
   "outputs": [
    {
     "name": "stderr",
     "output_type": "stream",
     "text": [
      "100%|█████████████████████████████████████████████████████████████████████████████████████████████████████████████████████████████████████████████| 5/5 [01:10<00:00, 14.09s/it]\n"
     ]
    },
    {
     "data": {
      "application/javascript": [
       "\n",
       "            setTimeout(function() {\n",
       "                var nbb_cell_id = 32;\n",
       "                var nbb_unformatted_code = \"file_futures = []\\nfor podcast_url, podcast_guest in tqdm(podcasts):\\n    file = File.create(\\n        client, plugin_instance=file_importer.handle, url=podcast_url\\n    ).data\\n    file_futures.append(\\n        (\\n            file.blockify(plugin_instance=s2t_blockifier.handle),\\n            file,\\n            podcast_url,\\n            podcast_guest,\\n        )\\n    )\";\n",
       "                var nbb_formatted_code = \"file_futures = []\\nfor podcast_url, podcast_guest in tqdm(podcasts):\\n    file = File.create(\\n        client, plugin_instance=file_importer.handle, url=podcast_url\\n    ).data\\n    file_futures.append(\\n        (\\n            file.blockify(plugin_instance=s2t_blockifier.handle),\\n            file,\\n            podcast_url,\\n            podcast_guest,\\n        )\\n    )\";\n",
       "                var nbb_cells = Jupyter.notebook.get_cells();\n",
       "                for (var i = 0; i < nbb_cells.length; ++i) {\n",
       "                    if (nbb_cells[i].input_prompt_number == nbb_cell_id) {\n",
       "                        if (nbb_cells[i].get_text() == nbb_unformatted_code) {\n",
       "                             nbb_cells[i].set_text(nbb_formatted_code);\n",
       "                        }\n",
       "                        break;\n",
       "                    }\n",
       "                }\n",
       "            }, 500);\n",
       "            "
      ],
      "text/plain": [
       "<IPython.core.display.Javascript object>"
      ]
     },
     "metadata": {},
     "output_type": "display_data"
    }
   ],
   "source": [
    "file_futures = []\n",
    "for podcast_url, podcast_guest in tqdm(podcasts):\n",
    "    file = File.create(\n",
    "        client, plugin_instance=file_importer.handle, url=podcast_url\n",
    "    ).data\n",
    "    file_futures.append(\n",
    "        (\n",
    "            file.blockify(plugin_instance=s2t_blockifier.handle),\n",
    "            file,\n",
    "            podcast_url,\n",
    "            podcast_guest,\n",
    "        )\n",
    "    )"
   ]
  },
  {
   "cell_type": "code",
   "execution_count": 39,
   "id": "cbd76fbf",
   "metadata": {},
   "outputs": [
    {
     "name": "stdout",
     "output_type": "stream",
     "text": [
      "0 5\n",
      ".F60582D1-9CFB-4CE3-BEF2-812F772A8DDF succeeded\n"
     ]
    },
    {
     "name": "stderr",
     "output_type": "stream",
     "text": [
      "ERROR:root:Client received error from server: [ObjectNotFound]\n",
      "Unable to find object id=F60582D1-9CFB-4CE3-BEF2-812F772A8DDF handle=?\n"
     ]
    },
    {
     "name": "stdout",
     "output_type": "stream",
     "text": [
      "F46788A9-0CD2-4176-9639-BC4E460644F2 succeeded\n"
     ]
    },
    {
     "name": "stderr",
     "output_type": "stream",
     "text": [
      "ERROR:root:Client received error from server: [ObjectNotFound]\n",
      "Unable to find object id=F46788A9-0CD2-4176-9639-BC4E460644F2 handle=?\n"
     ]
    },
    {
     "name": "stdout",
     "output_type": "stream",
     "text": [
      "27E2748B-0DED-4440-80AD-0C38756FB8B4 succeeded\n"
     ]
    },
    {
     "name": "stderr",
     "output_type": "stream",
     "text": [
      "ERROR:root:Client received error from server: [ObjectNotFound]\n",
      "Unable to find object id=27E2748B-0DED-4440-80AD-0C38756FB8B4 handle=?\n"
     ]
    },
    {
     "name": "stdout",
     "output_type": "stream",
     "text": [
      "EBEE09DA-4707-4CF8-AA51-C7EBB203C0A2 succeeded\n"
     ]
    },
    {
     "name": "stderr",
     "output_type": "stream",
     "text": [
      "ERROR:root:Client received error from server: [ObjectNotFound]\n",
      "Unable to find object id=EBEE09DA-4707-4CF8-AA51-C7EBB203C0A2 handle=?\n"
     ]
    },
    {
     "name": "stdout",
     "output_type": "stream",
     "text": [
      "9316142C-A712-4EF9-8250-D2E2A894B8A2 succeeded\n"
     ]
    },
    {
     "name": "stderr",
     "output_type": "stream",
     "text": [
      "ERROR:root:Client received error from server: [ObjectNotFound]\n",
      "Unable to find object id=9316142C-A712-4EF9-8250-D2E2A894B8A2 handle=?\n"
     ]
    },
    {
     "data": {
      "application/javascript": [
       "\n",
       "            setTimeout(function() {\n",
       "                var nbb_cell_id = 39;\n",
       "                var nbb_unformatted_code = \"skipped_urls = []\\nwhile len(skipped_urls) < len(file_futures):\\n    print(len(skipped_urls), len(file_futures))\\n    print(\\\".\\\", end=\\\"\\\")\\n    for file_future, file, podcast_url, podcast_guest in file_futures:\\n        if podcast_url not in skipped_urls:\\n            file_future.wait(max_timeout_s=2, retry_delay_s=1)\\n            if file_future.task.state in (TaskState.succeeded, TaskState.failed):\\n                print(file.id, file_future.task.state)\\n                if file_future.task.state == TaskState.succeeded:\\n                    try:\\n                        skipped_urls.append(podcast_url)\\n                        file = file.refresh().data\\n                        f = File.create(\\n                            client,\\n                            tags=[\\n                                Tag.CreateRequest(kind=\\\"youtube_url\\\", name=podcast_url),\\n                                Tag.CreateRequest(kind=\\\"guest\\\", name=podcast_guest),\\n                            ],\\n                            blocks=file.blocks,\\n                        ).data\\n                        tags = f.blocks[0].tags\\n                        print(len(tags), {tag.kind for tag in tags})\\n                        file.delete()\\n                    except Exception:\\n                        pass\\n\\n    time.sleep(5)\";\n",
       "                var nbb_formatted_code = \"skipped_urls = []\\nwhile len(skipped_urls) < len(file_futures):\\n    print(len(skipped_urls), len(file_futures))\\n    print(\\\".\\\", end=\\\"\\\")\\n    for file_future, file, podcast_url, podcast_guest in file_futures:\\n        if podcast_url not in skipped_urls:\\n            file_future.wait(max_timeout_s=2, retry_delay_s=1)\\n            if file_future.task.state in (TaskState.succeeded, TaskState.failed):\\n                print(file.id, file_future.task.state)\\n                if file_future.task.state == TaskState.succeeded:\\n                    try:\\n                        skipped_urls.append(podcast_url)\\n                        file = file.refresh().data\\n                        f = File.create(\\n                            client,\\n                            tags=[\\n                                Tag.CreateRequest(kind=\\\"youtube_url\\\", name=podcast_url),\\n                                Tag.CreateRequest(kind=\\\"guest\\\", name=podcast_guest),\\n                            ],\\n                            blocks=file.blocks,\\n                        ).data\\n                        tags = f.blocks[0].tags\\n                        print(len(tags), {tag.kind for tag in tags})\\n                        file.delete()\\n                    except Exception:\\n                        pass\\n\\n    time.sleep(5)\";\n",
       "                var nbb_cells = Jupyter.notebook.get_cells();\n",
       "                for (var i = 0; i < nbb_cells.length; ++i) {\n",
       "                    if (nbb_cells[i].input_prompt_number == nbb_cell_id) {\n",
       "                        if (nbb_cells[i].get_text() == nbb_unformatted_code) {\n",
       "                             nbb_cells[i].set_text(nbb_formatted_code);\n",
       "                        }\n",
       "                        break;\n",
       "                    }\n",
       "                }\n",
       "            }, 500);\n",
       "            "
      ],
      "text/plain": [
       "<IPython.core.display.Javascript object>"
      ]
     },
     "metadata": {},
     "output_type": "display_data"
    }
   ],
   "source": [
    "skipped_urls = []\n",
    "while len(skipped_urls) < len(file_futures):\n",
    "    print(len(skipped_urls), len(file_futures))\n",
    "    print(\".\", end=\"\")\n",
    "    for file_future, file, podcast_url, podcast_guest in file_futures:\n",
    "        if podcast_url not in skipped_urls:\n",
    "            file_future.wait(max_timeout_s=2, retry_delay_s=1)\n",
    "            if file_future.task.state in (TaskState.succeeded, TaskState.failed):\n",
    "                print(file.id, file_future.task.state)\n",
    "                if file_future.task.state == TaskState.succeeded:\n",
    "                    try:\n",
    "                        skipped_urls.append(podcast_url)\n",
    "                        file = file.refresh().data\n",
    "                        f = File.create(\n",
    "                            client,\n",
    "                            tags=[\n",
    "                                Tag.CreateRequest(kind=\"youtube_url\", name=podcast_url),\n",
    "                                Tag.CreateRequest(kind=\"guest\", name=podcast_guest),\n",
    "                            ],\n",
    "                            blocks=file.blocks,\n",
    "                        ).data\n",
    "                        tags = f.blocks[0].tags\n",
    "                        print(len(tags), {tag.kind for tag in tags})\n",
    "                        file.delete()\n",
    "                    except Exception:\n",
    "                        pass\n",
    "\n",
    "    time.sleep(5)"
   ]
  },
  {
   "cell_type": "code",
   "execution_count": null,
   "id": "18f46fd2",
   "metadata": {},
   "outputs": [],
   "source": []
  }
 ],
 "metadata": {
  "kernelspec": {
   "display_name": "Python 3 (ipykernel)",
   "language": "python",
   "name": "python3"
  },
  "language_info": {
   "codemirror_mode": {
    "name": "ipython",
    "version": 3
   },
   "file_extension": ".py",
   "mimetype": "text/x-python",
   "name": "python",
   "nbconvert_exporter": "python",
   "pygments_lexer": "ipython3",
   "version": "3.8.9"
  }
 },
 "nbformat": 4,
 "nbformat_minor": 5
}
